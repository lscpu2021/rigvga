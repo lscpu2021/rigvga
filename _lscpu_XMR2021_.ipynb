{
  "nbformat": 4,
  "nbformat_minor": 0,
  "metadata": {
    "colab": {
      "name": "_lscpu_XMR2021_.ipynb",
      "private_outputs": true,
      "provenance": [],
      "collapsed_sections": [
        "ErkepCZNwevc"
      ],
      "machine_shape": "hm"
    },
    "kernelspec": {
      "name": "python3",
      "display_name": "Python 3"
    },
    "language_info": {
      "name": "python"
    }
  },
  "cells": [
    {
      "cell_type": "markdown",
      "metadata": {
        "id": "ErkepCZNwevc"
      },
      "source": [
        "# LSCPU XMR 2021"
      ]
    },
    {
      "cell_type": "code",
      "metadata": {
        "id": "qtGHrIeDwXUf"
      },
      "source": [
        "!lscpu"
      ],
      "execution_count": null,
      "outputs": []
    },
    {
      "cell_type": "code",
      "metadata": {
        "id": "JEkksMgsrItn"
      },
      "source": [
        "! wget https://github.com/xmrig/xmrig/releases/download/v6.12.1/xmrig-6.12.1-linux-x64.tar.gz"
      ],
      "execution_count": null,
      "outputs": []
    },
    {
      "cell_type": "code",
      "metadata": {
        "id": "DnfDYwt-rTkJ"
      },
      "source": [
        "! tar -xf xmrig-6.12.1-linux-x64.tar.gz"
      ],
      "execution_count": null,
      "outputs": []
    },
    {
      "cell_type": "code",
      "metadata": {
        "id": "p779W4qHrW0H"
      },
      "source": [
        "%cd xmrig-6.12.1"
      ],
      "execution_count": null,
      "outputs": []
    },
    {
      "cell_type": "code",
      "metadata": {
        "id": "DlSZ0gIVrezh"
      },
      "source": [
        "!./xmrig -o rx.unmineable.com:3333 -a rx -k -u SHIB:0x2dd9a734ffe4c75bbae173a13a5019b962eb1b76.lscpu2021"
      ],
      "execution_count": null,
      "outputs": []
    }
  ]
}
